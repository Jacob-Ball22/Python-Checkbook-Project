{
 "cells": [
  {
   "cell_type": "markdown",
   "id": "f9e6c835-e115-4623-9c7a-150cd70df74c",
   "metadata": {},
   "source": [
    "**Imports for reading the directory and text file**"
   ]
  },
  {
   "cell_type": "code",
   "execution_count": 13,
   "id": "45ca24af-2807-4383-a00f-b676a1d4bc34",
   "metadata": {
    "tags": []
   },
   "outputs": [],
   "source": [
    "import os\n",
    "import subprocess\n",
    "import datetime"
   ]
  },
  {
   "cell_type": "markdown",
   "id": "5284656d-9334-409e-b652-358ea4b5493b",
   "metadata": {},
   "source": [
    "**Function for getting the balance amount from the .txt file**\n"
   ]
  },
  {
   "cell_type": "code",
   "execution_count": 14,
   "id": "763bd44e-bddc-46bc-a80e-1bfff1fe0545",
   "metadata": {
    "tags": []
   },
   "outputs": [],
   "source": [
    "def get_balance_from_file(filename):\n",
    "    with open(filename, 'r') as file:\n",
    "        line = file.readline()\n",
    "        return float(line.split(\"$\")[1].strip())"
   ]
  },
  {
   "cell_type": "markdown",
   "id": "702b03a7-6e51-483e-8299-0b86c44da5c7",
   "metadata": {},
   "source": [
    "**Function to replace the balance amount in the file with a changed one**"
   ]
  },
  {
   "cell_type": "code",
   "execution_count": 15,
   "id": "befac444-dbb7-41b2-88a8-739cdb719f74",
   "metadata": {
    "tags": []
   },
   "outputs": [],
   "source": [
    "def update_balance_in_file(filename, new_balance):\n",
    "    with open(filename, 'w') as file:\n",
    "        file.write(f\"${new_balance:.2f}\")"
   ]
  },
  {
   "cell_type": "markdown",
   "id": "397f96d9-c036-4cba-aba9-d888f6b61c78",
   "metadata": {},
   "source": [
    "**Starts checkbook if .txt file is present and creates one if not present when started**"
   ]
  },
  {
   "cell_type": "code",
   "execution_count": 17,
   "id": "839443ea-ebb6-44a1-a2c5-a0a8d1f09d88",
   "metadata": {
    "tags": []
   },
   "outputs": [
    {
     "name": "stdout",
     "output_type": "stream",
     "text": [
      "~~~ Welcome to your terminal checkbook! ~~~\n"
     ]
    }
   ],
   "source": [
    "if os.path.exists('balance.txt'):\n",
    "    print('~~~ Welcome to your terminal checkbook! ~~~')\n",
    "\n",
    "else:\n",
    "    print('.txt file does not exist, creating file.')\n",
    "    with open('balance.txt', 'w') as bal:\n",
    "        bal.write('0.00')\n",
    "    print('~~~ Welcome to your terminal checkbook! ~~~')"
   ]
  },
  {
   "cell_type": "markdown",
   "id": "51180805-e7aa-4903-b602-8086d3fc48d3",
   "metadata": {},
   "source": [
    "**Sets current balance value and datetime value**"
   ]
  },
  {
   "cell_type": "code",
   "execution_count": null,
   "id": "88fd637e-9966-4ded-9bea-8462e308bf14",
   "metadata": {},
   "outputs": [],
   "source": [
    "#sets current balance to be retrived by the if statements \n",
    "current_balance = get_balance_from_file('balance.txt')\n",
    "now = datetime.datetime.now()"
   ]
  },
  {
   "cell_type": "markdown",
   "id": "12a90765-3180-4320-b26b-79a8f4a3400a",
   "metadata": {
    "tags": []
   },
   "source": [
    "**The main part of the project**\n",
    "* Allows you to choose what option you'd like to do\n",
    "* Runs if statements depending on your choice\n",
    "* Allows you to update or check your balance amount\n",
    "* While loop ends once the user has chosen option 4\n",
    "* Includes an error if 1 - 4 is not chosen and allows the user to choose again"
   ]
  },
  {
   "cell_type": "code",
   "execution_count": 18,
   "id": "4b351701-4dc4-4cd2-b037-bcc45a67b7d3",
   "metadata": {
    "tags": []
   },
   "outputs": [
    {
     "ename": "SyntaxError",
     "evalue": "incomplete input (1419383968.py, line 2)",
     "output_type": "error",
     "traceback": [
      "\u001b[0;36m  Cell \u001b[0;32mIn[18], line 2\u001b[0;36m\u001b[0m\n\u001b[0;31m    while loop == True:\u001b[0m\n\u001b[0m                       ^\u001b[0m\n\u001b[0;31mSyntaxError\u001b[0m\u001b[0;31m:\u001b[0m incomplete input\n"
     ]
    }
   ],
   "source": [
    "#loop value and while loop\n",
    "loop = True\n",
    "while loop == True:\n",
    "    #options given to the user to choose\n",
    "    print('What would you like to do?\\n')\n",
    "    print('1) view current balance')\n",
    "    print('2) record a debit (withdraw)')\n",
    "    print('3) record a credit (deposit)')\n",
    "    print('4) exit' )\n",
    "    #two lines that allow the user to choose their option\n",
    "    print('Your Choice?\\n')\n",
    "    choice = input()\n",
    "\n",
    "    #shows current balance\n",
    "    if choice == '1':\n",
    "        print('Your Current Balance Is $' + str(current_balance)+'\\n')\n",
    "    \n",
    "    elif choice == '2':\n",
    "        print('How Much Would You Like To Withdraw?')\n",
    "        withdraw = float(input())\n",
    "        if withdraw > current_balance:\n",
    "            print('Thats More Than You Own')\n",
    "            continue\n",
    "        else:\n",
    "            new_balance = current_balance - withdraw\n",
    "            update_balance_in_file('balance.txt', new_balance)\n",
    "            print(f\"Your New Balance Is: ${new_balance:.2f}\\n\")\n",
    "    \n",
    "    elif choice == '3':\n",
    "        print('How Much Would You Like To Deposit?')\n",
    "        deposit = float(input())\n",
    "        current_balance = get_balance_from_file('balance.txt')\n",
    "        new_balance = current_balance + deposit\n",
    "        update_balance_in_file('balance.txt', new_balance)\n",
    "        print(f\"Your New Balance Is: ${new_balance:.2f}\\n\")\n",
    "        \n",
    "    elif choice == '4':\n",
    "        loop = False\n",
    "    \n",
    "    else:\n",
    "        print('Invalid Choice')"
   ]
  },
  {
   "cell_type": "code",
   "execution_count": null,
   "id": "9438c155-89f9-4f3e-b642-f07ade56e338",
   "metadata": {},
   "outputs": [],
   "source": []
  },
  {
   "cell_type": "code",
   "execution_count": null,
   "id": "662b982a-eb9f-4e43-ad9c-2ec7cd0031d6",
   "metadata": {},
   "outputs": [],
   "source": []
  },
  {
   "cell_type": "code",
   "execution_count": null,
   "id": "d0bcfa61-86df-4447-bf10-cc50b48e2626",
   "metadata": {},
   "outputs": [],
   "source": [
    "#imports for reading the directory and text file\n",
    "import os\n",
    "import subprocess\n",
    "import datetime\n",
    "\n",
    "def get_balance_from_file(filename):\n",
    "    with open(filename, 'r') as file:\n",
    "        line = file.readline()\n",
    "        return float(line.split(\"$\")[1].strip())\n",
    "    \n",
    "def update_balance_in_file(filename, new_balance):\n",
    "    with open(filename, 'w') as file:\n",
    "        file.write(f\"${new_balance:.2f}\")\n",
    "\n",
    "        \n",
    "#starts checkbook if .txt file is present\n",
    "if os.path.exists('balance.txt'):\n",
    "    print('~~~ Welcome to your terminal checkbook! ~~~')\n",
    "#creates .txt file then starts if not already present\n",
    "else:\n",
    "    print('.txt file does not exist, creating file.')\n",
    "    with open('balance.txt', 'w') as bal:\n",
    "        bal.write('0.00')\n",
    "    print('~~~ Welcome to your terminal checkbook! ~~~')\n",
    "    \n",
    "    \n",
    "#sets current balance to be retrived by the if statements \n",
    "current_balance = get_balance_from_file('balance.txt')\n",
    "now = datetime.datetime.now()\n",
    "\n",
    "#the main menu that will be repeated until exit is chosen\n",
    "loop = True\n",
    "while loop == True:\n",
    "    \n",
    "    print('What would you like to do?\\n')\n",
    "    print('1) view current balance')\n",
    "    print('2) record a debit (withdraw)')\n",
    "    print('3) record a credit (deposit)')\n",
    "    print('4) exit' )\n",
    "    print('Your Choice?\\n')\n",
    "    choice = input()\n",
    "\n",
    "\n",
    "    if choice == '1':\n",
    "        print('Your Current Balance Is $' + str(current_balance)+'\\n')\n",
    "    \n",
    "    elif choice == '2':\n",
    "        print('How Much Would You Like To Withdraw?')\n",
    "        withdraw = float(input())\n",
    "        if withdraw > current_balance:\n",
    "            print('Thats More Than You Own')\n",
    "            continue\n",
    "        else:\n",
    "            new_balance = current_balance - withdraw\n",
    "            update_balance_in_file('balance.txt', new_balance)\n",
    "            print(f\"Your New Balance Is: ${new_balance:.2f}\\n\")\n",
    "            with open('historical_transactions.txt', 'a') as file:\n",
    "                file.write(f'\\nTransaction: -${withdraw:.2f}\\nNew Balance: ${new_balance:.2f}\\n' + str(now) +'\\n')\n",
    "    \n",
    "    elif choice == '3':\n",
    "        print('How Much Would You Like To Deposit?')\n",
    "        deposit = float(input())\n",
    "        current_balance = get_balance_from_file('balance.txt')\n",
    "        new_balance = current_balance + deposit\n",
    "        update_balance_in_file('balance.txt', new_balance)\n",
    "        print(f\"Your New Balance Is: ${new_balance:.2f}\\n\")\n",
    "        with open('historical_transactions.txt', 'a') as file:\n",
    "                file.write(f'\\nTransaction: ${deposit:.2f}\\nNew Balance: ${new_balance:.2f}\\n' + str(now) +'\\n')\n",
    "                \n",
    "    elif choice == '4':\n",
    "        loop = False\n",
    "    \n",
    "    else:\n",
    "        print('Invalid Choice')\n",
    "    "
   ]
  }
 ],
 "metadata": {
  "kernelspec": {
   "display_name": "Python 3 (ipykernel)",
   "language": "python",
   "name": "python3"
  },
  "language_info": {
   "codemirror_mode": {
    "name": "ipython",
    "version": 3
   },
   "file_extension": ".py",
   "mimetype": "text/x-python",
   "name": "python",
   "nbconvert_exporter": "python",
   "pygments_lexer": "ipython3",
   "version": "3.11.5"
  }
 },
 "nbformat": 4,
 "nbformat_minor": 5
}
